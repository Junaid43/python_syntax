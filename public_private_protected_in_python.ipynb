{
  "nbformat": 4,
  "nbformat_minor": 0,
  "metadata": {
    "colab": {
      "provenance": [],
      "authorship_tag": "ABX9TyN3qZ4YAXiRpk3ND4WfyP0n",
      "include_colab_link": true
    },
    "kernelspec": {
      "name": "python3",
      "display_name": "Python 3"
    },
    "language_info": {
      "name": "python"
    }
  },
  "cells": [
    {
      "cell_type": "markdown",
      "metadata": {
        "id": "view-in-github",
        "colab_type": "text"
      },
      "source": [
        "<a href=\"https://colab.research.google.com/github/Junaid43/python_syntax/blob/main/public_private_protected_in_python.ipynb\" target=\"_parent\"><img src=\"https://colab.research.google.com/assets/colab-badge.svg\" alt=\"Open In Colab\"/></a>"
      ]
    },
    {
      "cell_type": "markdown",
      "source": [
        "# Private and protected attributes in Python DataClasses.\n",
        "Python, by design, does not have strict enforcement of “private” or “protected” visibility like some other languages (e.g. Java or C++). Instead, Python developers rely on naming conventions (single underscore _ or double underscore __) and sometimes property getters/setters to indicate or simulate restricted access.\n",
        "\n",
        "We will walk through five illustrative examples, ranging from basic conventions to more advanced usage with data classes.\n",
        "\n",
        "---\n",
        "\n",
        "# 1. Static Methods:\n",
        "\n",
        "Purpose:\n",
        "Static methods are methods that belong to a class but don't have access to the instance (self) or the class (cls).\n",
        "They are essentially functions that are logically grouped within a class because they relate to the class's functionality.\n",
        "They are used when a method doesn't need to access any instance-specific or class-specific data.\n",
        "When to Use:\n",
        "When you have a utility function that logically belongs to a class but doesn't require access to the instance's state or the class's state.\n",
        "For helper functions that perform calculations or operations related to the class.\n",
        "To group related functionality within a class for better organization.\n",
        "\n",
        "---\n",
        "\n",
        "\n",
        "# 2. Class Methods:\n",
        "\n",
        "Purpose:\n",
        "Class methods are methods that belong to a class and have access to the class itself (cls).\n",
        "They can access and modify class-level attributes.\n",
        "They are often used as factory methods to create instances of the class.\n",
        "When to Use:\n",
        "When you need to perform operations that involve the class itself, rather than a specific instance.\n",
        "To create alternative constructors (factory methods) that create instances of the class in different ways.\n",
        "To access or modify class variables.\n",
        "cls Parameter:\n",
        "The cls parameter is a reference to the class itself. It's similar to self, but it represents the class, not an instance of the class.\n",
        "You can use cls to access class attributes and call other class methods.\n",
        "\n"
      ],
      "metadata": {
        "id": "PBZcrfzQM_Ge"
      }
    },
    {
      "cell_type": "code",
      "execution_count": 12,
      "metadata": {
        "id": "kAWfZT7mM5pb"
      },
      "outputs": [],
      "source": [
        "from dataclasses import dataclass,field\n",
        "from typing import ClassVar\n",
        "\n",
        "@dataclass\n",
        "\n",
        "class Employee:\n",
        "  name: str\n",
        "  _salary: float  # Protected attribute convention with single underscore\n",
        "  __employee_id: int = field(repr=False)  # Private attribute convention with double underscore\n",
        "  company_name:ClassVar[str] = \"JSOL Tech\"\n",
        "\n",
        "  def get_salary(self):\n",
        "    return self._salary\n",
        "\n",
        "  def get_employee_id(self) -> int:\n",
        "        return self.__employee_id #accessing the mangled name via a public method.\n",
        "\n",
        "  @staticmethod\n",
        "  def is_valid_salary(salary: float) -> bool:\n",
        "    if salary > 0:\n",
        "      return True\n",
        "    else:\n",
        "      return False\n",
        "\n",
        "  @classmethod\n",
        "  def create_employee(cls, name:str, salary:float, employee_id:int)->'Employee':\n",
        "    return cls(name, salary, employee_id)\n",
        "\n",
        "  def get_employee_data(self):\n",
        "    return f\"Name: {self.name}, Salary: {self._salary}, Employee ID: {self.__employee_id} and Company Name: {Employee.company_name}\""
      ]
    },
    {
      "cell_type": "code",
      "source": [
        "employee1 = Employee.create_employee(\"John Doe\", 50000, 12345)\n",
        "print(employee1)"
      ],
      "metadata": {
        "colab": {
          "base_uri": "https://localhost:8080/"
        },
        "id": "ka2DYJdCONLT",
        "outputId": "4a3f5860-9c96-4899-a3ea-71ecb09e0901"
      },
      "execution_count": 13,
      "outputs": [
        {
          "output_type": "stream",
          "name": "stdout",
          "text": [
            "Employee(name='John Doe', _salary=50000)\n"
          ]
        }
      ]
    },
    {
      "cell_type": "code",
      "source": [
        "employee1.get_employee_id()"
      ],
      "metadata": {
        "colab": {
          "base_uri": "https://localhost:8080/"
        },
        "id": "WCvlHEE_OnDA",
        "outputId": "49acbdb1-7777-40a5-fba8-13534859b208"
      },
      "execution_count": 14,
      "outputs": [
        {
          "output_type": "execute_result",
          "data": {
            "text/plain": [
              "12345"
            ]
          },
          "metadata": {},
          "execution_count": 14
        }
      ]
    },
    {
      "cell_type": "code",
      "source": [
        "employee1.get_employee_data()"
      ],
      "metadata": {
        "colab": {
          "base_uri": "https://localhost:8080/",
          "height": 35
        },
        "id": "o17KJ9FRRE9z",
        "outputId": "7f4754a4-a681-4c9a-a9a3-c925c4984912"
      },
      "execution_count": 15,
      "outputs": [
        {
          "output_type": "execute_result",
          "data": {
            "text/plain": [
              "'Name: John Doe, Salary: 50000, Employee ID: 12345 and Company Name: JSOL Tech'"
            ],
            "application/vnd.google.colaboratory.intrinsic+json": {
              "type": "string"
            }
          },
          "metadata": {},
          "execution_count": 15
        }
      ]
    }
  ]
}