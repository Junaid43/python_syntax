{
  "nbformat": 4,
  "nbformat_minor": 0,
  "metadata": {
    "colab": {
      "provenance": [],
      "authorship_tag": "ABX9TyNg32MrQRjgzm7SuAwDlsQQ",
      "include_colab_link": true
    },
    "kernelspec": {
      "name": "python3",
      "display_name": "Python 3"
    },
    "language_info": {
      "name": "python"
    }
  },
  "cells": [
    {
      "cell_type": "markdown",
      "metadata": {
        "id": "view-in-github",
        "colab_type": "text"
      },
      "source": [
        "<a href=\"https://colab.research.google.com/github/Junaid43/python_syntax/blob/main/callable_dataclass_generic_in_python.ipynb\" target=\"_parent\"><img src=\"https://colab.research.google.com/assets/colab-badge.svg\" alt=\"Open In Colab\"/></a>"
      ]
    },
    {
      "cell_type": "markdown",
      "source": [
        "Classes -> Objects, Methods\n",
        "\n",
        "__call__ is make a function callable"
      ],
      "metadata": {
        "id": "xTMFvJB2hUaj"
      }
    },
    {
      "cell_type": "code",
      "execution_count": 59,
      "metadata": {
        "id": "aterKpfdhKfX"
      },
      "outputs": [],
      "source": [
        "from dataclasses import dataclass\n",
        "from typing import Callable\n",
        "\n",
        "@dataclass\n",
        "\n",
        "# operation is a function which takes two input in integer and then return string output\n",
        "\n",
        "class Calculator:\n",
        "  operation:Callable[[int,int],str]\n",
        "\n",
        "  def calculate(self,a:int,b:int):\n",
        "    return self.operation(a,b)\n",
        "\n",
        "\n",
        "def add_two_number(a:int,b:int)->str:\n",
        "  return str(a + b)\n"
      ]
    },
    {
      "cell_type": "code",
      "source": [
        "calc = Calculator(add_two_number)\n",
        "calc.calculate(1,2)"
      ],
      "metadata": {
        "colab": {
          "base_uri": "https://localhost:8080/",
          "height": 35
        },
        "id": "kz-uRNkXjZuS",
        "outputId": "9bd33e92-3850-4aa4-a2e3-6fab37e47f30"
      },
      "execution_count": 3,
      "outputs": [
        {
          "output_type": "execute_result",
          "data": {
            "text/plain": [
              "'3'"
            ],
            "application/vnd.google.colaboratory.intrinsic+json": {
              "type": "string"
            }
          },
          "metadata": {},
          "execution_count": 3
        }
      ]
    },
    {
      "cell_type": "code",
      "source": [
        "def multiply_two_number(a:int,b:int)->str:\n",
        "  return str(a * b)"
      ],
      "metadata": {
        "id": "z1BnYln_jvcn"
      },
      "execution_count": 4,
      "outputs": []
    },
    {
      "cell_type": "code",
      "source": [
        "calc = Calculator(multiply_two_number)\n",
        "calc.calculate(5,2)"
      ],
      "metadata": {
        "colab": {
          "base_uri": "https://localhost:8080/",
          "height": 35
        },
        "id": "GmFzrk75jzjI",
        "outputId": "4a237a3b-b928-4ceb-bd78-799ae9c9ee07"
      },
      "execution_count": 6,
      "outputs": [
        {
          "output_type": "execute_result",
          "data": {
            "text/plain": [
              "'10'"
            ],
            "application/vnd.google.colaboratory.intrinsic+json": {
              "type": "string"
            }
          },
          "metadata": {},
          "execution_count": 6
        }
      ]
    },
    {
      "cell_type": "code",
      "source": [
        "from dataclasses import dataclass\n",
        "from typing import Callable\n",
        "\n",
        "@dataclass\n",
        "\n",
        "# operation is a function which takes two input in integer and then return string output\n",
        "\n",
        "class Calculator:\n",
        "  operation:Callable[[int,int],str]\n",
        "\n",
        "  def __call__(self,a:int,b:int):\n",
        "    return self.operation(a,b)\n",
        "\n",
        "\n"
      ],
      "metadata": {
        "id": "vLau30nLj8PO"
      },
      "execution_count": 10,
      "outputs": []
    },
    {
      "cell_type": "code",
      "source": [
        "def add_two_number(a:int,b:int)->str:\n",
        "  return str(a + b)\n",
        "calc = Calculator(add_two_number)\n",
        "calc(1,2)"
      ],
      "metadata": {
        "colab": {
          "base_uri": "https://localhost:8080/",
          "height": 35
        },
        "id": "9EKZXWlskAXA",
        "outputId": "afe45346-0702-4689-fa3b-3e425a65d5fa"
      },
      "execution_count": 11,
      "outputs": [
        {
          "output_type": "execute_result",
          "data": {
            "text/plain": [
              "'3'"
            ],
            "application/vnd.google.colaboratory.intrinsic+json": {
              "type": "string"
            }
          },
          "metadata": {},
          "execution_count": 11
        }
      ]
    },
    {
      "cell_type": "markdown",
      "source": [
        "#**Generic In python**\n",
        "\n",
        "In Python, generics primarily address the need for type safety and code reusability when working with collections or functions that handle various data types. While Python is dynamically typed, generics, especially with the typing module, allow you to introduce static type checking, making your code more robust and easier to maintain.\n",
        "\n",
        "## Features and Benefits:\n",
        "\n",
        "Type Parameters:\n",
        "Generics use type parameters (e.g., T, K, V) to represent arbitrary types.\n",
        "These parameters are used to specify the types of function arguments, return values, and class attributes.\n",
        "### Collections and Containers:\n",
        "Generics are commonly used with collections like List, Tuple, Dict, and Set to specify the types of elements they contain.\n",
        "For example, List[int] indicates a list of integers, and Dict[str, float] indicates a dictionary with string keys and float values.\n",
        "### Functions and Methods:\n",
        "Generics can be used to define functions and methods that work with different types.\n",
        "This allows you to create reusable algorithms that can operate on various data structures.\n",
        "### Custom Generic Types:\n",
        "You can define your own generic classes and protocols to create reusable components with type safety.\n",
        "### Type Hints and Static Analysis:\n",
        "Generics work in conjunction with type hints and static analysis tools like mypy to provide comprehensive type checking.\n",
        "This allows you to find type errors before runtime."
      ],
      "metadata": {
        "id": "B-YUvwCRkLdF"
      }
    },
    {
      "cell_type": "code",
      "source": [
        "from typing import TypeVar\n",
        "\n",
        "# Type Variable for generic typing\n",
        "# using T is a community driven practice\n",
        "\n",
        "# 1- The type of the list will have the same\n",
        "# 2- T will be whatever type we define\n",
        "# 3- Whatever type of <T> is will be returned\n",
        "\n",
        "\n",
        "T = TypeVar('T')\n",
        "\n",
        "def generic_first_element(itms:list[T])->T:\n",
        "  return itms[0]\n",
        "\n",
        "num_result = generic_first_element([\"1\",2,3])\n",
        "str_result = generic_first_element(['a','b','c'])"
      ],
      "metadata": {
        "id": "eQ_GYgghlYZ2"
      },
      "execution_count": 34,
      "outputs": []
    },
    {
      "cell_type": "code",
      "source": [
        "print(num_result)\n",
        "\n",
        "print(type(num_result))\n",
        "print(str_result)\n",
        "\n",
        "print(type(str_result))"
      ],
      "metadata": {
        "colab": {
          "base_uri": "https://localhost:8080/"
        },
        "id": "xeVu2LPwm1O6",
        "outputId": "0658a8e9-b9ee-4764-b343-eccee31cd429"
      },
      "execution_count": 33,
      "outputs": [
        {
          "output_type": "stream",
          "name": "stdout",
          "text": [
            "1\n",
            "<class 'str'>\n",
            "a\n",
            "<class 'str'>\n"
          ]
        }
      ]
    },
    {
      "cell_type": "code",
      "source": [
        "from typing import Any, List, TypeVar\n",
        "\n",
        "T = TypeVar('T')\n",
        "\n",
        "def process_any(items: List[Any]) -> Any:\n",
        "    return items[0]\n",
        "\n",
        "def process_generic(items: List[T]) -> T:\n",
        "    return items[0]\n",
        "\n",
        "numbers = [1, 2, \"three\"]\n",
        "\n",
        "result_any = process_any(numbers) # no type error.\n",
        "result_generic = process_generic([1,2,3]) # type checker will make sure that the list contains only one type."
      ],
      "metadata": {
        "id": "-FIgxTAKzot6"
      },
      "execution_count": 39,
      "outputs": []
    },
    {
      "cell_type": "code",
      "source": [
        "print(result_any)\n",
        "print(result_generic)"
      ],
      "metadata": {
        "colab": {
          "base_uri": "https://localhost:8080/"
        },
        "id": "EhlE4J2h0DzT",
        "outputId": "04ddb7e3-a58b-43b8-b93e-68377077c3f8"
      },
      "execution_count": 40,
      "outputs": [
        {
          "output_type": "stream",
          "name": "stdout",
          "text": [
            "1\n",
            "1\n"
          ]
        }
      ]
    },
    {
      "cell_type": "code",
      "source": [
        "from typing import TypeVar, List\n",
        "\n",
        "T = TypeVar('T')\n",
        "\n",
        "def get_first_item(items: List[T]) -> T:\n",
        "    \"\"\"Returns the first item of a list, ensuring type safety.\"\"\"\n",
        "    if not items:\n",
        "        raise ValueError(\"List is empty\")\n",
        "    return items[0]\n",
        "\n",
        "# Using the generic function with integers:\n",
        "int_list: List[int] = [1, 2, 3]\n",
        "first_int: int = get_first_item(int_list)\n",
        "print(f\"First integer: {first_int}\")  # Output: First integer: 1\n",
        "\n",
        "# Using the generic function with strings:\n",
        "str_list: List[str] = [\"apple\", \"banana\", \"cherry\"]\n",
        "first_str: str = get_first_item(str_list)\n",
        "print(f\"First string: {first_str}\")  # Output: First string: apple\n",
        "\n",
        "# Reusability: The same function works for different types."
      ],
      "metadata": {
        "colab": {
          "base_uri": "https://localhost:8080/"
        },
        "id": "UnRWh00E0Zcq",
        "outputId": "5721cae2-0be5-4bbe-d663-cfd8043a8038"
      },
      "execution_count": 43,
      "outputs": [
        {
          "output_type": "stream",
          "name": "stdout",
          "text": [
            "First integer: 1\n",
            "First string: apple\n"
          ]
        }
      ]
    },
    {
      "cell_type": "markdown",
      "source": [
        "# Generic Type using Dic type"
      ],
      "metadata": {
        "id": "mXAX3_k52Upj"
      }
    },
    {
      "cell_type": "code",
      "source": [
        "from typing import TypeVar, List\n",
        "\n",
        "K = TypeVar('K')\n",
        "V = TypeVar('V')\n",
        "\n",
        "def merge_dicts(container: dict[K, V], key:K) -> V:\n",
        "    \"\"\"Returns the value associated with the given key from a dictionary.\"\"\"\n",
        "    return container[key]"
      ],
      "metadata": {
        "id": "LNgY9qbW1tFF"
      },
      "execution_count": 44,
      "outputs": []
    },
    {
      "cell_type": "code",
      "source": [
        "d = {'a':1,'b':2}\n",
        "value = merge_dicts(d,'a')\n",
        "print(value)\n"
      ],
      "metadata": {
        "colab": {
          "base_uri": "https://localhost:8080/"
        },
        "id": "wSsN81M92L2R",
        "outputId": "e52e045c-5b86-4fcf-c67c-2ffeafb33664"
      },
      "execution_count": 45,
      "outputs": [
        {
          "output_type": "stream",
          "name": "stdout",
          "text": [
            "1\n"
          ]
        }
      ]
    },
    {
      "cell_type": "markdown",
      "source": [
        "# Generic Type using Dataclass decorator"
      ],
      "metadata": {
        "id": "xCR06PVB2YCM"
      }
    },
    {
      "cell_type": "code",
      "source": [
        "from dataclasses import dataclass,field\n",
        "from typing import TypeVar,Generic,ClassVar\n",
        "\n",
        "# Type Variable for generic typing\n",
        "\n",
        "T = TypeVar('T')\n",
        "\n",
        "@dataclass\n",
        "class Stack(Generic[T]):\n",
        "  items:list[T] = field(default_factory=list)\n",
        "  limit:ClassVar[int] = 3\n",
        "\n",
        "  def push(self,item:T)->None:\n",
        "    if len(self.items) >= self.limit:\n",
        "      raise ValueError(\"Stack is full\")\n",
        "    self.items.append(item)"
      ],
      "metadata": {
        "id": "KCM2pMbMm7qX"
      },
      "execution_count": 46,
      "outputs": []
    },
    {
      "cell_type": "code",
      "source": [
        "stack_elemenet = Stack[int]()\n",
        "print(stack_elemenet)\n",
        "stack_elemenet.push(1)\n",
        "stack_elemenet.push(2)\n",
        "stack_elemenet.push(3)\n",
        "print(stack_elemenet)"
      ],
      "metadata": {
        "colab": {
          "base_uri": "https://localhost:8080/"
        },
        "id": "Uv2lf4473UAS",
        "outputId": "920bf05e-a203-4bb2-f401-e85dd2a24080"
      },
      "execution_count": 48,
      "outputs": [
        {
          "output_type": "stream",
          "name": "stdout",
          "text": [
            "Stack(items=[])\n",
            "Stack(items=[1, 2, 3])\n"
          ]
        }
      ]
    },
    {
      "cell_type": "code",
      "source": [
        "stack_elemenet = Stack[str]()\n",
        "print(stack_elemenet)\n",
        "stack_elemenet.push(\"Muhammad \")\n",
        "stack_elemenet.push(\"Junaid\")\n",
        "stack_elemenet.push(\"Tariq\")\n",
        "print(stack_elemenet)"
      ],
      "metadata": {
        "colab": {
          "base_uri": "https://localhost:8080/"
        },
        "id": "4twgisIw34Tl",
        "outputId": "23c49a03-43c1-4c88-e358-ed7852f13a5c"
      },
      "execution_count": 50,
      "outputs": [
        {
          "output_type": "stream",
          "name": "stdout",
          "text": [
            "Stack(items=[])\n",
            "Stack(items=['Muhammad ', 'Junaid', 'Tariq'])\n"
          ]
        }
      ]
    },
    {
      "cell_type": "code",
      "source": [
        "from typing import Generic, TypeVar,ClassVar, Dict, List\n",
        "from dataclasses import dataclass,field\n",
        "\n",
        "T = TypeVar('T')\n",
        "K = TypeVar('K')\n",
        "V = TypeVar('V')\n",
        "\n",
        "@dataclass\n",
        "class Person(Generic[T,K,V]):\n",
        "  name:str\n",
        "  age:int\n",
        "  address:str\n",
        "  # Class Var is used to set value on class level and its constant for each object of this class\n",
        "  limit_features:ClassVar[int] = 3\n",
        "  features:list[T] = field(default_factory=list)\n",
        "  characteristics: Dict[K, V] = field(default_factory=dict)\n",
        "\n",
        "  def add_features(self,feature:T)->None:\n",
        "    self.features.append(feature)\n",
        "\n",
        "  def add_characteristics(self,key:K,value:V)->None:\n",
        "    self.characteristics[key] = value\n"
      ],
      "metadata": {
        "id": "WA9Qk7R94ysm"
      },
      "execution_count": 56,
      "outputs": []
    },
    {
      "cell_type": "code",
      "source": [
        "person1 = Person[str,str,str](name=\"junaid\",age=28,address=\"lahore\")\n",
        "person1.add_features(\"hardworking\")\n",
        "\n",
        "person1.add_characteristics(\"eyes\",\"black\")\n",
        "\n",
        "print(person1)\n"
      ],
      "metadata": {
        "colab": {
          "base_uri": "https://localhost:8080/"
        },
        "id": "wlI3O5HH6Gq8",
        "outputId": "a71e1b5b-04d1-40bc-f565-854a1bbb177e"
      },
      "execution_count": 57,
      "outputs": [
        {
          "output_type": "stream",
          "name": "stdout",
          "text": [
            "Person(name='junaid', age=28, address='lahore', features=['hardworking'], characteristics={'eyes': 'black'})\n"
          ]
        }
      ]
    },
    {
      "cell_type": "code",
      "source": [
        "person2 = Person[int, int, str](name=\"ali\", age=30, address=\"islamabad\")\n",
        "person2.add_features(5)\n",
        "person2.add_characteristics(1, \"tall\")\n",
        "\n",
        "print(person2)"
      ],
      "metadata": {
        "colab": {
          "base_uri": "https://localhost:8080/"
        },
        "id": "BqZdjNDG8vDX",
        "outputId": "79dbb09d-2b3e-4281-c54c-7d74f894f73e"
      },
      "execution_count": 58,
      "outputs": [
        {
          "output_type": "stream",
          "name": "stdout",
          "text": [
            "Person(name='ali', age=30, address='islamabad', features=[5], characteristics={1: 'tall'})\n"
          ]
        }
      ]
    }
  ]
}